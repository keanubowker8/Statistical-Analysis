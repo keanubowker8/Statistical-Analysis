{
 "cells": [
  {
   "cell_type": "markdown",
   "id": "a6d3a8f8",
   "metadata": {},
   "source": [
    "<h1> STATISTICAL THINKING </h1>\n",
    "<blockquote>\n",
    "    <b> Project Description</b> <br>The Millennium Development Goals were a set of 8 goals for 2015 that were defined by the United Nations to help improve living conditions and the conditions of our planet. Key indicators were defined for each of these goals, to see whether they were being met. We will have a look at some of the key indicators from Goal 7: Ensure environmental sustainability, namely carbon dioxide emissions, protected land and sea areas, and forests.\n",
    "</blockquote>"
   ]
  },
  {
   "cell_type": "code",
   "execution_count": 1,
   "id": "3a8417eb",
   "metadata": {},
   "outputs": [],
   "source": [
    "import pandas as pd\n",
    "import numpy as np\n",
    "import seaborn as sns\n",
    "import matplotlib.pyplot as plt\n",
    "from scipy import stats\n",
    "import matplotlib.patches as mpatches\n",
    "sns.set()"
   ]
  },
  {
   "cell_type": "code",
   "execution_count": 2,
   "id": "12b0c180",
   "metadata": {},
   "outputs": [],
   "source": [
    "df = pd.read_csv('../data/MDG_Export_20191227.csv')"
   ]
  },
  {
   "cell_type": "code",
   "execution_count": 3,
   "id": "35edee64",
   "metadata": {},
   "outputs": [
    {
     "data": {
      "text/html": [
       "<div>\n",
       "<style scoped>\n",
       "    .dataframe tbody tr th:only-of-type {\n",
       "        vertical-align: middle;\n",
       "    }\n",
       "\n",
       "    .dataframe tbody tr th {\n",
       "        vertical-align: top;\n",
       "    }\n",
       "\n",
       "    .dataframe thead th {\n",
       "        text-align: right;\n",
       "    }\n",
       "</style>\n",
       "<table border=\"1\" class=\"dataframe\">\n",
       "  <thead>\n",
       "    <tr style=\"text-align: right;\">\n",
       "      <th></th>\n",
       "      <th>CountryCode</th>\n",
       "      <th>Country</th>\n",
       "      <th>SeriesCode</th>\n",
       "      <th>MDG</th>\n",
       "      <th>Series</th>\n",
       "      <th>1990</th>\n",
       "      <th>Footnotes</th>\n",
       "      <th>Type</th>\n",
       "      <th>1991</th>\n",
       "      <th>Footnotes.1</th>\n",
       "      <th>...</th>\n",
       "      <th>Type.26</th>\n",
       "      <th>2017</th>\n",
       "      <th>Footnotes.27</th>\n",
       "      <th>Type.27</th>\n",
       "      <th>2018</th>\n",
       "      <th>Footnotes.28</th>\n",
       "      <th>Type.28</th>\n",
       "      <th>2019</th>\n",
       "      <th>Footnotes.29</th>\n",
       "      <th>Type.29</th>\n",
       "    </tr>\n",
       "  </thead>\n",
       "  <tbody>\n",
       "    <tr>\n",
       "      <th>0</th>\n",
       "      <td>4</td>\n",
       "      <td>Afghanistan</td>\n",
       "      <td>567</td>\n",
       "      <td>Y</td>\n",
       "      <td>Proportion of land area covered by forest, per...</td>\n",
       "      <td>2.1</td>\n",
       "      <td>NaN</td>\n",
       "      <td>E</td>\n",
       "      <td></td>\n",
       "      <td></td>\n",
       "      <td>...</td>\n",
       "      <td></td>\n",
       "      <td></td>\n",
       "      <td></td>\n",
       "      <td></td>\n",
       "      <td></td>\n",
       "      <td></td>\n",
       "      <td></td>\n",
       "      <td></td>\n",
       "      <td></td>\n",
       "      <td></td>\n",
       "    </tr>\n",
       "    <tr>\n",
       "      <th>1</th>\n",
       "      <td>4</td>\n",
       "      <td>Afghanistan</td>\n",
       "      <td>749</td>\n",
       "      <td>Y</td>\n",
       "      <td>Carbon dioxide emissions (CO2), thousand metri...</td>\n",
       "      <td>2676.9</td>\n",
       "      <td>NaN</td>\n",
       "      <td>G</td>\n",
       "      <td>2493.6</td>\n",
       "      <td>NaN</td>\n",
       "      <td>...</td>\n",
       "      <td></td>\n",
       "      <td></td>\n",
       "      <td></td>\n",
       "      <td></td>\n",
       "      <td></td>\n",
       "      <td></td>\n",
       "      <td></td>\n",
       "      <td></td>\n",
       "      <td></td>\n",
       "      <td></td>\n",
       "    </tr>\n",
       "  </tbody>\n",
       "</table>\n",
       "<p>2 rows × 95 columns</p>\n",
       "</div>"
      ],
      "text/plain": [
       "   CountryCode      Country  SeriesCode MDG  \\\n",
       "0            4  Afghanistan         567   Y   \n",
       "1            4  Afghanistan         749   Y   \n",
       "\n",
       "                                              Series    1990 Footnotes Type  \\\n",
       "0  Proportion of land area covered by forest, per...     2.1       NaN    E   \n",
       "1  Carbon dioxide emissions (CO2), thousand metri...  2676.9       NaN    G   \n",
       "\n",
       "     1991 Footnotes.1  ... Type.26 2017 Footnotes.27 Type.27 2018  \\\n",
       "0                      ...                                          \n",
       "1  2493.6         NaN  ...                                          \n",
       "\n",
       "  Footnotes.28 Type.28 2019 Footnotes.29 Type.29  \n",
       "0                                                 \n",
       "1                                                 \n",
       "\n",
       "[2 rows x 95 columns]"
      ]
     },
     "execution_count": 3,
     "metadata": {},
     "output_type": "execute_result"
    }
   ],
   "source": [
    "df.head(2)"
   ]
  },
  {
   "cell_type": "code",
   "execution_count": 4,
   "id": "bc47827a",
   "metadata": {},
   "outputs": [
    {
     "name": "stdout",
     "output_type": "stream",
     "text": [
      "Number of Countries: 230\n"
     ]
    }
   ],
   "source": [
    "print(f'Number of Countries: {df.Country.nunique()}')"
   ]
  },
  {
   "cell_type": "code",
   "execution_count": 5,
   "id": "e879dd15",
   "metadata": {},
   "outputs": [
    {
     "name": "stdout",
     "output_type": "stream",
     "text": [
      "Null Values: 49804\n"
     ]
    }
   ],
   "source": [
    "df.replace(r'^\\s*$', np.nan, regex=True, inplace=True)\n",
    "print(f'Null Values: {df.isnull().sum().sum()}')"
   ]
  },
  {
   "cell_type": "markdown",
   "id": "5176cde5",
   "metadata": {},
   "source": [
    "<blockquote>\n",
    "The dataframe contains a number of empty strings \" \". So I'll convert all those to NaN values. So that the data is more meaningful and useful.  \n",
    "</blockquote>"
   ]
  },
  {
   "cell_type": "code",
   "execution_count": 6,
   "id": "9aba352e",
   "metadata": {},
   "outputs": [
    {
     "name": "stdout",
     "output_type": "stream",
     "text": [
      "Column: 1990 Missing values: 63\n",
      "Column: 1991 Missing values: 508\n",
      "Column: 1992 Missing values: 486\n",
      "Column: 1993 Missing values: 486\n",
      "Column: 1994 Missing values: 485\n",
      "Column: 1995 Missing values: 483\n",
      "Column: 1996 Missing values: 484\n",
      "Column: 1997 Missing values: 481\n",
      "Column: 1998 Missing values: 481\n",
      "Column: 1999 Missing values: 481\n",
      "Column: 2000 Missing values: 34\n",
      "Column: 2001 Missing values: 479\n",
      "Column: 2002 Missing values: 478\n",
      "Column: 2003 Missing values: 478\n",
      "Column: 2004 Missing values: 478\n",
      "Column: 2005 Missing values: 254\n",
      "Column: 2006 Missing values: 476\n",
      "Column: 2007 Missing values: 475\n",
      "Column: 2008 Missing values: 475\n",
      "Column: 2009 Missing values: 475\n",
      "Column: 2010 Missing values: 252\n",
      "Column: 2011 Missing values: 475\n",
      "Column: 2012 Missing values: 690\n",
      "Column: 2013 Missing values: 690\n",
      "Column: 2014 Missing values: 467\n",
      "Column: 2015 Missing values: 690\n",
      "Column: 2016 Missing values: 690\n",
      "Column: 2017 Missing values: 690\n",
      "Column: 2018 Missing values: 690\n",
      "Column: 2019 Missing values: 690\n"
     ]
    }
   ],
   "source": [
    "for column in df.columns:\n",
    "    if column[0] in '1234567890':\n",
    "        missing_values = df[column].isnull().sum()            \n",
    "        print(f'Column: {column} Missing values: {missing_values}')"
   ]
  },
  {
   "cell_type": "code",
   "execution_count": 7,
   "id": "529e03a8",
   "metadata": {},
   "outputs": [
    {
     "name": "stdout",
     "output_type": "stream",
     "text": [
      "Country: Afghanistan, Missing values: 212\n",
      "Country: Albania, Missing values: 212\n",
      "Country: Algeria, Missing values: 212\n",
      "Country: American Samoa, Missing values: 256\n",
      "Country: Andorra, Missing values: 222\n",
      "Country: Angola, Missing values: 212\n",
      "Country: Anguilla, Missing values: 226\n",
      "Country: Antigua and Barbuda, Missing values: 212\n",
      "Country: Argentina, Missing values: 212\n",
      "Country: Armenia, Missing values: 216\n",
      "Country: Aruba, Missing values: 212\n",
      "Country: Australia, Missing values: 212\n",
      "Country: Austria, Missing values: 212\n",
      "Country: Azerbaijan, Missing values: 216\n",
      "Country: Bahamas, Missing values: 212\n",
      "Country: Bahrain, Missing values: 212\n",
      "Country: Bangladesh, Missing values: 212\n",
      "Country: Barbados, Missing values: 212\n",
      "Country: Belarus, Missing values: 216\n",
      "Country: Belgium, Missing values: 212\n",
      "Country: Belize, Missing values: 212\n",
      "Country: Benin, Missing values: 212\n",
      "Country: Bermuda, Missing values: 212\n",
      "Country: Bhutan, Missing values: 212\n",
      "Country: Bolivia, Missing values: 212\n",
      "Country: Bosnia and Herzegovina, Missing values: 216\n",
      "Country: Botswana, Missing values: 212\n",
      "Country: Brazil, Missing values: 212\n",
      "Country: British Virgin Islands, Missing values: 212\n",
      "Country: Brunei Darussalam, Missing values: 212\n",
      "Country: Bulgaria, Missing values: 212\n",
      "Country: Burkina Faso, Missing values: 212\n",
      "Country: Burundi, Missing values: 212\n",
      "Country: Cambodia, Missing values: 212\n",
      "Country: Cameroon, Missing values: 212\n",
      "Country: Canada, Missing values: 212\n",
      "Country: Cape Verde, Missing values: 212\n",
      "Country: Cayman Islands, Missing values: 212\n",
      "Country: Central African Republic, Missing values: 212\n",
      "Country: Chad, Missing values: 212\n",
      "Country: Chile, Missing values: 212\n",
      "Country: China, Missing values: 208\n",
      "Country: China, Hong Kong Special Administrative Region, Missing values: 220\n",
      "Country: China, Macao Special Administrative Region, Missing values: 220\n",
      "Country: Colombia, Missing values: 212\n",
      "Country: Comoros, Missing values: 212\n",
      "Country: Congo, Missing values: 212\n",
      "Country: Cook Islands, Missing values: 212\n",
      "Country: Costa Rica, Missing values: 212\n",
      "Country: Cote d'Ivoire, Missing values: 212\n",
      "Country: Croatia, Missing values: 216\n",
      "Country: Cuba, Missing values: 212\n",
      "Country: Cyprus, Missing values: 212\n",
      "Country: Czech Republic, Missing values: 216\n",
      "Country: Democratic Republic of the Congo, Missing values: 212\n",
      "Country: Denmark, Missing values: 212\n",
      "Country: Djibouti, Missing values: 212\n",
      "Country: Dominica, Missing values: 212\n",
      "Country: Dominican Republic, Missing values: 212\n",
      "Country: Ecuador, Missing values: 212\n",
      "Country: Egypt, Missing values: 212\n",
      "Country: El Salvador, Missing values: 212\n",
      "Country: Equatorial Guinea, Missing values: 212\n",
      "Country: Eritrea, Missing values: 220\n",
      "Country: Estonia, Missing values: 216\n",
      "Country: Ethiopia, Missing values: 212\n",
      "Country: Faeroe Islands, Missing values: 212\n",
      "Country: Falkland Islands (Malvinas), Missing values: 212\n",
      "Country: Fiji, Missing values: 212\n",
      "Country: Finland, Missing values: 208\n",
      "Country: France, Missing values: 212\n",
      "Country: French Guiana, Missing values: 208\n",
      "Country: French Polynesia, Missing values: 212\n",
      "Country: Gabon, Missing values: 212\n",
      "Country: Gambia, Missing values: 212\n",
      "Country: Georgia, Missing values: 216\n",
      "Country: Germany, Missing values: 214\n",
      "Country: Ghana, Missing values: 212\n",
      "Country: Gibraltar, Missing values: 218\n",
      "Country: Greece, Missing values: 212\n",
      "Country: Greenland, Missing values: 212\n",
      "Country: Grenada, Missing values: 212\n",
      "Country: Guadeloupe, Missing values: 212\n",
      "Country: Guam, Missing values: 256\n",
      "Country: Guatemala, Missing values: 212\n",
      "Country: Guinea, Missing values: 212\n",
      "Country: Guinea-Bissau, Missing values: 212\n",
      "Country: Guyana, Missing values: 212\n",
      "Country: Haiti, Missing values: 212\n",
      "Country: Honduras, Missing values: 212\n",
      "Country: Hungary, Missing values: 208\n",
      "Country: Iceland, Missing values: 212\n",
      "Country: India, Missing values: 212\n",
      "Country: Indonesia, Missing values: 212\n",
      "Country: Iran (Islamic Republic of), Missing values: 212\n",
      "Country: Iraq, Missing values: 212\n",
      "Country: Ireland, Missing values: 212\n",
      "Country: Israel, Missing values: 212\n",
      "Country: Italy, Missing values: 212\n",
      "Country: Jamaica, Missing values: 212\n",
      "Country: Japan, Missing values: 212\n",
      "Country: Jordan, Missing values: 212\n",
      "Country: Kazakhstan, Missing values: 216\n",
      "Country: Kenya, Missing values: 212\n",
      "Country: Kiribati, Missing values: 212\n",
      "Country: Korea, Democratic People's Republic of, Missing values: 212\n",
      "Country: Korea, Republic of, Missing values: 212\n",
      "Country: Kuwait, Missing values: 212\n",
      "Country: Kyrgyzstan, Missing values: 216\n",
      "Country: Lao People's Democratic Republic, Missing values: 212\n",
      "Country: Latvia, Missing values: 216\n",
      "Country: Lebanon, Missing values: 212\n",
      "Country: Lesotho, Missing values: 242\n",
      "Country: Liberia, Missing values: 212\n",
      "Country: Libyan Arab Jamahiriya, Missing values: 212\n",
      "Country: Liechtenstein, Missing values: 246\n",
      "Country: Lithuania, Missing values: 216\n",
      "Country: Luxembourg, Missing values: 212\n",
      "Country: Madagascar, Missing values: 212\n",
      "Country: Malawi, Missing values: 212\n",
      "Country: Malaysia, Missing values: 212\n",
      "Country: Maldives, Missing values: 212\n",
      "Country: Mali, Missing values: 212\n",
      "Country: Malta, Missing values: 212\n",
      "Country: Marshall Islands, Missing values: 212\n",
      "Country: Martinique, Missing values: 212\n",
      "Country: Mauritania, Missing values: 212\n",
      "Country: Mauritius, Missing values: 212\n",
      "Country: Mayotte, Missing values: 256\n",
      "Country: Mexico, Missing values: 212\n",
      "Country: Micronesia, Federated States of, Missing values: 226\n",
      "Country: Monaco, Missing values: 260\n",
      "Country: Mongolia, Missing values: 212\n",
      "Country: Montenegro, Missing values: 244\n",
      "Country: Montserrat, Missing values: 212\n",
      "Country: Morocco, Missing values: 212\n",
      "Country: Mozambique, Missing values: 212\n",
      "Country: Myanmar, Missing values: 212\n",
      "Country: Namibia, Missing values: 212\n",
      "Country: Nauru, Missing values: 212\n",
      "Country: Nepal, Missing values: 212\n",
      "Country: Netherlands, Missing values: 212\n",
      "Country: Netherlands Antilles, Missing values: 212\n",
      "Country: New Caledonia, Missing values: 212\n",
      "Country: New Zealand, Missing values: 212\n",
      "Country: Nicaragua, Missing values: 212\n",
      "Country: Niger, Missing values: 212\n",
      "Country: Nigeria, Missing values: 212\n",
      "Country: Niue, Missing values: 212\n",
      "Country: Northern Mariana Islands, Missing values: 256\n",
      "Country: Norway, Missing values: 212\n",
      "Country: Oman, Missing values: 212\n",
      "Country: Pakistan, Missing values: 212\n",
      "Country: Palau, Missing values: 216\n",
      "Country: Panama, Missing values: 212\n",
      "Country: Papua New Guinea, Missing values: 212\n",
      "Country: Paraguay, Missing values: 212\n",
      "Country: Peru, Missing values: 212\n",
      "Country: Philippines, Missing values: 212\n",
      "Country: Poland, Missing values: 208\n",
      "Country: Portugal, Missing values: 212\n",
      "Country: Puerto Rico, Missing values: 256\n",
      "Country: Qatar, Missing values: 212\n",
      "Country: Republic of Moldova, Missing values: 216\n",
      "Country: Reunion, Missing values: 212\n",
      "Country: Romania, Missing values: 212\n",
      "Country: Russian Federation, Missing values: 216\n",
      "Country: Rwanda, Missing values: 212\n",
      "Country: Saint Helena, Missing values: 218\n",
      "Country: Saint Kitts and Nevis, Missing values: 212\n",
      "Country: Saint Lucia, Missing values: 212\n",
      "Country: Saint Pierre and Miquelon, Missing values: 218\n",
      "Country: Saint Vincent and the Grenadines, Missing values: 212\n",
      "Country: Samoa, Missing values: 212\n",
      "Country: San Marino, Missing values: 256\n",
      "Country: Sao Tome and Principe, Missing values: 212\n",
      "Country: Saudi Arabia, Missing values: 212\n",
      "Country: Senegal, Missing values: 212\n",
      "Country: Serbia, Missing values: 244\n",
      "Country: Serbia and Montenegro, Missing values: 242\n",
      "Country: Seychelles, Missing values: 212\n",
      "Country: Sierra Leone, Missing values: 212\n",
      "Country: Singapore, Missing values: 212\n",
      "Country: Slovakia, Missing values: 216\n",
      "Country: Slovenia, Missing values: 216\n",
      "Country: Solomon Islands, Missing values: 212\n",
      "Country: Somalia, Missing values: 220\n",
      "Country: South Africa, Missing values: 212\n",
      "Country: South Sudan, Missing values: 264\n",
      "Country: Spain, Missing values: 212\n",
      "Country: Sri Lanka, Missing values: 212\n",
      "Country: State of Palestine, Missing values: 226\n",
      "Country: Sudan, Missing values: 264\n",
      "Country: Sudan (former), Missing values: 218\n",
      "Country: Suriname, Missing values: 212\n",
      "Country: Swaziland, Missing values: 212\n",
      "Country: Sweden, Missing values: 212\n",
      "Country: Switzerland, Missing values: 212\n",
      "Country: Syrian Arab Republic, Missing values: 212\n",
      "Country: Tajikistan, Missing values: 216\n",
      "Country: Thailand, Missing values: 212\n",
      "Country: The former Yugoslav Republic of Macedonia, Missing values: 216\n",
      "Country: Timor-Leste, Missing values: 236\n",
      "Country: Togo, Missing values: 212\n",
      "Country: Tokelau, Missing values: 256\n",
      "Country: Tonga, Missing values: 212\n",
      "Country: Trinidad and Tobago, Missing values: 212\n",
      "Country: Tunisia, Missing values: 212\n",
      "Country: Turkey, Missing values: 212\n",
      "Country: Turkmenistan, Missing values: 216\n",
      "Country: Turks and Caicos Islands, Missing values: 222\n",
      "Country: Tuvalu, Missing values: 256\n"
     ]
    },
    {
     "name": "stdout",
     "output_type": "stream",
     "text": [
      "Country: Uganda, Missing values: 212\n",
      "Country: Ukraine, Missing values: 216\n",
      "Country: United Arab Emirates, Missing values: 212\n",
      "Country: United Kingdom, Missing values: 212\n",
      "Country: United Republic of Tanzania, Missing values: 212\n",
      "Country: United States, Missing values: 212\n",
      "Country: United States Virgin Islands, Missing values: 256\n",
      "Country: Uruguay, Missing values: 212\n",
      "Country: Uzbekistan, Missing values: 216\n",
      "Country: Vanuatu, Missing values: 212\n",
      "Country: Venezuela, Missing values: 212\n",
      "Country: Viet Nam, Missing values: 212\n",
      "Country: Wallis and Futuna Islands, Missing values: 240\n",
      "Country: Western Sahara, Missing values: 256\n",
      "Country: Yemen, Missing values: 212\n",
      "Country: Yugoslavia [former Socialist Federal Republic], Missing values: 266\n",
      "Country: Zambia, Missing values: 212\n",
      "Country: Zimbabwe, Missing values: 212\n"
     ]
    }
   ],
   "source": [
    "for country in df.Country.unique():\n",
    "    missing_values = sum(df[df.Country==country].isnull().sum())            \n",
    "    print(f'Country: {country}, Missing values: {missing_values}')\n",
    "    "
   ]
  },
  {
   "cell_type": "code",
   "execution_count": 8,
   "id": "7a2bd5c5",
   "metadata": {},
   "outputs": [],
   "source": [
    "years = []\n",
    "for column in df.columns:\n",
    "    if column[0] in '1234567890':\n",
    "        years.append(column)\n",
    "        df[column] = df[column].astype(float)"
   ]
  },
  {
   "cell_type": "code",
   "execution_count": 9,
   "id": "d4b2a558",
   "metadata": {},
   "outputs": [
    {
     "name": "stdout",
     "output_type": "stream",
     "text": [
      "<class 'pandas.core.frame.DataFrame'>\n",
      "RangeIndex: 690 entries, 0 to 689\n",
      "Data columns (total 95 columns):\n",
      " #   Column        Non-Null Count  Dtype  \n",
      "---  ------        --------------  -----  \n",
      " 0   CountryCode   690 non-null    int64  \n",
      " 1   Country       690 non-null    object \n",
      " 2   SeriesCode    690 non-null    int64  \n",
      " 3   MDG           690 non-null    object \n",
      " 4   Series        690 non-null    object \n",
      " 5   1990          627 non-null    float64\n",
      " 6   Footnotes     5 non-null      object \n",
      " 7   Type          628 non-null    object \n",
      " 8   1991          182 non-null    float64\n",
      " 9   Footnotes.1   0 non-null      object \n",
      " 10  Type.1        182 non-null    object \n",
      " 11  1992          204 non-null    float64\n",
      " 12  Footnotes.2   0 non-null      object \n",
      " 13  Type.2        204 non-null    object \n",
      " 14  1993          204 non-null    float64\n",
      " 15  Footnotes.3   0 non-null      object \n",
      " 16  Type.3        204 non-null    object \n",
      " 17  1994          205 non-null    float64\n",
      " 18  Footnotes.4   0 non-null      object \n",
      " 19  Type.4        205 non-null    object \n",
      " 20  1995          207 non-null    float64\n",
      " 21  Footnotes.5   0 non-null      object \n",
      " 22  Type.5        207 non-null    object \n",
      " 23  1996          206 non-null    float64\n",
      " 24  Footnotes.6   0 non-null      object \n",
      " 25  Type.6        206 non-null    object \n",
      " 26  1997          209 non-null    float64\n",
      " 27  Footnotes.7   0 non-null      object \n",
      " 28  Type.7        209 non-null    object \n",
      " 29  1998          209 non-null    float64\n",
      " 30  Footnotes.8   0 non-null      object \n",
      " 31  Type.8        209 non-null    object \n",
      " 32  1999          209 non-null    float64\n",
      " 33  Footnotes.9   0 non-null      object \n",
      " 34  Type.9        209 non-null    object \n",
      " 35  2000          656 non-null    float64\n",
      " 36  Footnotes.10  5 non-null      object \n",
      " 37  Type.10       657 non-null    object \n",
      " 38  2001          211 non-null    float64\n",
      " 39  Footnotes.11  0 non-null      object \n",
      " 40  Type.11       211 non-null    object \n",
      " 41  2002          212 non-null    float64\n",
      " 42  Footnotes.12  0 non-null      object \n",
      " 43  Type.12       212 non-null    object \n",
      " 44  2003          212 non-null    float64\n",
      " 45  Footnotes.13  0 non-null      object \n",
      " 46  Type.13       212 non-null    object \n",
      " 47  2004          212 non-null    float64\n",
      " 48  Footnotes.14  0 non-null      object \n",
      " 49  Type.14       212 non-null    object \n",
      " 50  2005          436 non-null    float64\n",
      " 51  Footnotes.15  5 non-null      object \n",
      " 52  Type.15       437 non-null    object \n",
      " 53  2006          214 non-null    float64\n",
      " 54  Footnotes.16  0 non-null      object \n",
      " 55  Type.16       214 non-null    object \n",
      " 56  2007          215 non-null    float64\n",
      " 57  Footnotes.17  0 non-null      object \n",
      " 58  Type.17       215 non-null    object \n",
      " 59  2008          215 non-null    float64\n",
      " 60  Footnotes.18  0 non-null      object \n",
      " 61  Type.18       215 non-null    object \n",
      " 62  2009          215 non-null    float64\n",
      " 63  Footnotes.19  0 non-null      object \n",
      " 64  Type.19       215 non-null    object \n",
      " 65  2010          438 non-null    float64\n",
      " 66  Footnotes.20  5 non-null      object \n",
      " 67  Type.20       439 non-null    object \n",
      " 68  2011          215 non-null    float64\n",
      " 69  Footnotes.21  0 non-null      object \n",
      " 70  Type.21       215 non-null    object \n",
      " 71  2012          0 non-null      float64\n",
      " 72  Footnotes.22  0 non-null      object \n",
      " 73  Type.22       0 non-null      object \n",
      " 74  2013          0 non-null      float64\n",
      " 75  Footnotes.23  0 non-null      object \n",
      " 76  Type.23       0 non-null      object \n",
      " 77  2014          223 non-null    float64\n",
      " 78  Footnotes.24  0 non-null      object \n",
      " 79  Type.24       223 non-null    object \n",
      " 80  2015          0 non-null      float64\n",
      " 81  Footnotes.25  0 non-null      object \n",
      " 82  Type.25       0 non-null      object \n",
      " 83  2016          0 non-null      float64\n",
      " 84  Footnotes.26  0 non-null      object \n",
      " 85  Type.26       0 non-null      object \n",
      " 86  2017          0 non-null      float64\n",
      " 87  Footnotes.27  0 non-null      object \n",
      " 88  Type.27       0 non-null      object \n",
      " 89  2018          0 non-null      float64\n",
      " 90  Footnotes.28  0 non-null      object \n",
      " 91  Type.28       0 non-null      object \n",
      " 92  2019          0 non-null      float64\n",
      " 93  Footnotes.29  0 non-null      object \n",
      " 94  Type.29       0 non-null      object \n",
      "dtypes: float64(30), int64(2), object(63)\n",
      "memory usage: 512.2+ KB\n"
     ]
    }
   ],
   "source": [
    "df.info()"
   ]
  },
  {
   "cell_type": "code",
   "execution_count": 10,
   "id": "a5a4a2d4",
   "metadata": {},
   "outputs": [
    {
     "data": {
      "text/html": [
       "<div>\n",
       "<style scoped>\n",
       "    .dataframe tbody tr th:only-of-type {\n",
       "        vertical-align: middle;\n",
       "    }\n",
       "\n",
       "    .dataframe tbody tr th {\n",
       "        vertical-align: top;\n",
       "    }\n",
       "\n",
       "    .dataframe thead th {\n",
       "        text-align: right;\n",
       "    }\n",
       "</style>\n",
       "<table border=\"1\" class=\"dataframe\">\n",
       "  <thead>\n",
       "    <tr style=\"text-align: right;\">\n",
       "      <th></th>\n",
       "      <th>Proportion of land area covered by forest, percentage</th>\n",
       "      <th>Carbon dioxide emissions (CO2), thousand metric tons of CO2 (CDIAC)</th>\n",
       "      <th>Terrestrial and marine areas protected to total territorial area, percentage</th>\n",
       "    </tr>\n",
       "  </thead>\n",
       "  <tbody>\n",
       "    <tr>\n",
       "      <th>0</th>\n",
       "      <td>18892</td>\n",
       "      <td>11550</td>\n",
       "      <td>19362</td>\n",
       "    </tr>\n",
       "  </tbody>\n",
       "</table>\n",
       "</div>"
      ],
      "text/plain": [
       "   Proportion of land area covered by forest, percentage  \\\n",
       "0                                              18892       \n",
       "\n",
       "   Carbon dioxide emissions (CO2), thousand metric tons of CO2 (CDIAC)  \\\n",
       "0                                              11550                     \n",
       "\n",
       "   Terrestrial and marine areas protected to total territorial area, percentage  \n",
       "0                                              19362                             "
      ]
     },
     "execution_count": 10,
     "metadata": {},
     "output_type": "execute_result"
    }
   ],
   "source": [
    "series = {\"Proportion of land area covered by forest, percentage\":\n",
    "          sum(df[df.Series==\"Proportion of land area covered by forest, percentage\"].isnull().sum()),\n",
    "         \"Carbon dioxide emissions (CO2), thousand metric tons of CO2 (CDIAC)\":\n",
    "          sum(df[df.Series==\"Carbon dioxide emissions (CO2), thousand metric tons of CO2 (CDIAC)\"].isnull().sum()),\n",
    "         \"Terrestrial and marine areas protected to total territorial area, percentage\":\n",
    "          sum(df[df.Series==\"Terrestrial and marine areas protected to total territorial area, percentage\"].isnull().sum())}\n",
    "series_df = pd.DataFrame(data=series,index=[0])\n",
    "series_df"
   ]
  },
  {
   "cell_type": "code",
   "execution_count": 11,
   "id": "0f44546b",
   "metadata": {},
   "outputs": [
    {
     "data": {
      "text/plain": [
       "-2999.6"
      ]
     },
     "execution_count": 11,
     "metadata": {},
     "output_type": "execute_result"
    }
   ],
   "source": [
    "df['1990'].min()"
   ]
  },
  {
   "cell_type": "code",
   "execution_count": 12,
   "id": "3151524e",
   "metadata": {},
   "outputs": [],
   "source": [
    "df['1990'].replace(-2999.6,2999.6,inplace=True)"
   ]
  },
  {
   "cell_type": "markdown",
   "id": "42b185f8",
   "metadata": {},
   "source": [
    "<blockquote>We can see that 1990 contains erraneous data so we'll fix that.</blockquote>"
   ]
  },
  {
   "cell_type": "markdown",
   "id": "49e83689",
   "metadata": {},
   "source": [
    "<h3>Who are the top and bottom 5 countries in terms of C02 emissions in 1990 and what are their emissions? How has this changed by 2011?\n",
    "\n",
    " </h3>"
   ]
  },
  {
   "cell_type": "code",
   "execution_count": 13,
   "id": "d46001fd",
   "metadata": {},
   "outputs": [],
   "source": [
    "df['How much it has changed'] = df['2011'] - df['1990']\n",
    "\n",
    "co2_emissions = df[['SeriesCode', 'Series','Country', '1990', 'How much it has changed']].copy()\n",
    "co2_emissions = df[(df['SeriesCode']== 749)].copy()"
   ]
  },
  {
   "cell_type": "code",
   "execution_count": 14,
   "id": "302d8088",
   "metadata": {},
   "outputs": [],
   "source": [
    "values={}\n",
    "for year in years:\n",
    "        values[year] = co2_emissions[year].mean()"
   ]
  },
  {
   "cell_type": "code",
   "execution_count": 15,
   "id": "601b44ab",
   "metadata": {},
   "outputs": [],
   "source": [
    "co2_emissions.fillna(value=values,inplace=True)"
   ]
  },
  {
   "cell_type": "markdown",
   "id": "065bb14a",
   "metadata": {},
   "source": [
    "<h3>Top 5 Countries\n",
    "\n",
    " </h3>"
   ]
  },
  {
   "cell_type": "code",
   "execution_count": 16,
   "id": "6de4a1ad",
   "metadata": {},
   "outputs": [
    {
     "data": {
      "text/html": [
       "<div>\n",
       "<style scoped>\n",
       "    .dataframe tbody tr th:only-of-type {\n",
       "        vertical-align: middle;\n",
       "    }\n",
       "\n",
       "    .dataframe tbody tr th {\n",
       "        vertical-align: top;\n",
       "    }\n",
       "\n",
       "    .dataframe thead th {\n",
       "        text-align: right;\n",
       "    }\n",
       "</style>\n",
       "<table border=\"1\" class=\"dataframe\">\n",
       "  <thead>\n",
       "    <tr style=\"text-align: right;\">\n",
       "      <th></th>\n",
       "      <th>Country</th>\n",
       "      <th>1990</th>\n",
       "    </tr>\n",
       "  </thead>\n",
       "  <tbody>\n",
       "    <tr>\n",
       "      <th>652</th>\n",
       "      <td>United States</td>\n",
       "      <td>4823557.1</td>\n",
       "    </tr>\n",
       "    <tr>\n",
       "      <th>124</th>\n",
       "      <td>China</td>\n",
       "      <td>2460744.0</td>\n",
       "    </tr>\n",
       "    <tr>\n",
       "      <th>301</th>\n",
       "      <td>Japan</td>\n",
       "      <td>1094287.8</td>\n",
       "    </tr>\n",
       "    <tr>\n",
       "      <th>277</th>\n",
       "      <td>India</td>\n",
       "      <td>690576.8</td>\n",
       "    </tr>\n",
       "    <tr>\n",
       "      <th>646</th>\n",
       "      <td>United Kingdom</td>\n",
       "      <td>555902.5</td>\n",
       "    </tr>\n",
       "  </tbody>\n",
       "</table>\n",
       "</div>"
      ],
      "text/plain": [
       "            Country       1990\n",
       "652   United States  4823557.1\n",
       "124           China  2460744.0\n",
       "301           Japan  1094287.8\n",
       "277           India   690576.8\n",
       "646  United Kingdom   555902.5"
      ]
     },
     "execution_count": 16,
     "metadata": {},
     "output_type": "execute_result"
    }
   ],
   "source": [
    "top = co2_emissions.sort_values('1990', axis=0, ascending=False, kind='quicksort', na_position='last')\n",
    "top_5_1990 = top[['Country', '1990']]\n",
    "top_5_1990.head(5)"
   ]
  },
  {
   "cell_type": "code",
   "execution_count": 17,
   "id": "f18b90b4",
   "metadata": {},
   "outputs": [
    {
     "data": {
      "text/html": [
       "<div>\n",
       "<style scoped>\n",
       "    .dataframe tbody tr th:only-of-type {\n",
       "        vertical-align: middle;\n",
       "    }\n",
       "\n",
       "    .dataframe tbody tr th {\n",
       "        vertical-align: top;\n",
       "    }\n",
       "\n",
       "    .dataframe thead th {\n",
       "        text-align: right;\n",
       "    }\n",
       "</style>\n",
       "<table border=\"1\" class=\"dataframe\">\n",
       "  <thead>\n",
       "    <tr style=\"text-align: right;\">\n",
       "      <th></th>\n",
       "      <th>Country</th>\n",
       "      <th>2011</th>\n",
       "    </tr>\n",
       "  </thead>\n",
       "  <tbody>\n",
       "    <tr>\n",
       "      <th>652</th>\n",
       "      <td>United States</td>\n",
       "      <td>5305569.6</td>\n",
       "    </tr>\n",
       "    <tr>\n",
       "      <th>124</th>\n",
       "      <td>China</td>\n",
       "      <td>9019518.2</td>\n",
       "    </tr>\n",
       "    <tr>\n",
       "      <th>301</th>\n",
       "      <td>Japan</td>\n",
       "      <td>1187657.0</td>\n",
       "    </tr>\n",
       "    <tr>\n",
       "      <th>277</th>\n",
       "      <td>India</td>\n",
       "      <td>2074344.9</td>\n",
       "    </tr>\n",
       "    <tr>\n",
       "      <th>646</th>\n",
       "      <td>United Kingdom</td>\n",
       "      <td>448235.7</td>\n",
       "    </tr>\n",
       "  </tbody>\n",
       "</table>\n",
       "</div>"
      ],
      "text/plain": [
       "            Country       2011\n",
       "652   United States  5305569.6\n",
       "124           China  9019518.2\n",
       "301           Japan  1187657.0\n",
       "277           India  2074344.9\n",
       "646  United Kingdom   448235.7"
      ]
     },
     "execution_count": 17,
     "metadata": {},
     "output_type": "execute_result"
    }
   ],
   "source": [
    "top_5_2011 = top[['Country', '2011']]\n",
    "top_5_2011.head(5)"
   ]
  },
  {
   "cell_type": "code",
   "execution_count": 18,
   "id": "5e16c5cd",
   "metadata": {},
   "outputs": [
    {
     "data": {
      "text/html": [
       "<div>\n",
       "<style scoped>\n",
       "    .dataframe tbody tr th:only-of-type {\n",
       "        vertical-align: middle;\n",
       "    }\n",
       "\n",
       "    .dataframe tbody tr th {\n",
       "        vertical-align: top;\n",
       "    }\n",
       "\n",
       "    .dataframe thead th {\n",
       "        text-align: right;\n",
       "    }\n",
       "</style>\n",
       "<table border=\"1\" class=\"dataframe\">\n",
       "  <thead>\n",
       "    <tr style=\"text-align: right;\">\n",
       "      <th></th>\n",
       "      <th>Country</th>\n",
       "      <th>How much it has changed</th>\n",
       "    </tr>\n",
       "  </thead>\n",
       "  <tbody>\n",
       "    <tr>\n",
       "      <th>652</th>\n",
       "      <td>United States</td>\n",
       "      <td>482012.5</td>\n",
       "    </tr>\n",
       "    <tr>\n",
       "      <th>124</th>\n",
       "      <td>China</td>\n",
       "      <td>6558774.2</td>\n",
       "    </tr>\n",
       "    <tr>\n",
       "      <th>301</th>\n",
       "      <td>Japan</td>\n",
       "      <td>93369.2</td>\n",
       "    </tr>\n",
       "    <tr>\n",
       "      <th>277</th>\n",
       "      <td>India</td>\n",
       "      <td>1383768.1</td>\n",
       "    </tr>\n",
       "    <tr>\n",
       "      <th>646</th>\n",
       "      <td>United Kingdom</td>\n",
       "      <td>-107666.8</td>\n",
       "    </tr>\n",
       "  </tbody>\n",
       "</table>\n",
       "</div>"
      ],
      "text/plain": [
       "            Country  How much it has changed\n",
       "652   United States                 482012.5\n",
       "124           China                6558774.2\n",
       "301           Japan                  93369.2\n",
       "277           India                1383768.1\n",
       "646  United Kingdom                -107666.8"
      ]
     },
     "execution_count": 18,
     "metadata": {},
     "output_type": "execute_result"
    }
   ],
   "source": [
    "top_5_2011 = top[['Country', 'How much it has changed']]\n",
    "top_5_2011.head(5)"
   ]
  },
  {
   "cell_type": "markdown",
   "id": "5399b258",
   "metadata": {},
   "source": [
    "<h3>Bottom 5 Countries\n",
    "\n",
    " </h3>"
   ]
  },
  {
   "cell_type": "code",
   "execution_count": 19,
   "id": "1057edf8",
   "metadata": {},
   "outputs": [
    {
     "data": {
      "text/html": [
       "<div>\n",
       "<style scoped>\n",
       "    .dataframe tbody tr th:only-of-type {\n",
       "        vertical-align: middle;\n",
       "    }\n",
       "\n",
       "    .dataframe tbody tr th {\n",
       "        vertical-align: top;\n",
       "    }\n",
       "\n",
       "    .dataframe thead th {\n",
       "        text-align: right;\n",
       "    }\n",
       "</style>\n",
       "<table border=\"1\" class=\"dataframe\">\n",
       "  <thead>\n",
       "    <tr style=\"text-align: right;\">\n",
       "      <th></th>\n",
       "      <th>Country</th>\n",
       "      <th>1990</th>\n",
       "    </tr>\n",
       "  </thead>\n",
       "  <tbody>\n",
       "    <tr>\n",
       "      <th>445</th>\n",
       "      <td>Niue</td>\n",
       "      <td>3.7</td>\n",
       "    </tr>\n",
       "    <tr>\n",
       "      <th>505</th>\n",
       "      <td>Saint Helena</td>\n",
       "      <td>7.3</td>\n",
       "    </tr>\n",
       "    <tr>\n",
       "      <th>559</th>\n",
       "      <td>Somalia</td>\n",
       "      <td>18.3</td>\n",
       "    </tr>\n",
       "    <tr>\n",
       "      <th>142</th>\n",
       "      <td>Cook Islands</td>\n",
       "      <td>22.0</td>\n",
       "    </tr>\n",
       "    <tr>\n",
       "      <th>313</th>\n",
       "      <td>Kiribati</td>\n",
       "      <td>22.0</td>\n",
       "    </tr>\n",
       "  </tbody>\n",
       "</table>\n",
       "</div>"
      ],
      "text/plain": [
       "          Country  1990\n",
       "445          Niue   3.7\n",
       "505  Saint Helena   7.3\n",
       "559       Somalia  18.3\n",
       "142  Cook Islands  22.0\n",
       "313      Kiribati  22.0"
      ]
     },
     "execution_count": 19,
     "metadata": {},
     "output_type": "execute_result"
    }
   ],
   "source": [
    "bottom = co2_emissions.sort_values('1990', axis=0, ascending=True, kind='quicksort', na_position='last')\n",
    "bottom_5_1990 = bottom[['Country', '1990']]\n",
    "bottom_5_1990.head(5)"
   ]
  },
  {
   "cell_type": "code",
   "execution_count": 20,
   "id": "5de7926c",
   "metadata": {},
   "outputs": [
    {
     "data": {
      "text/html": [
       "<div>\n",
       "<style scoped>\n",
       "    .dataframe tbody tr th:only-of-type {\n",
       "        vertical-align: middle;\n",
       "    }\n",
       "\n",
       "    .dataframe tbody tr th {\n",
       "        vertical-align: top;\n",
       "    }\n",
       "\n",
       "    .dataframe thead th {\n",
       "        text-align: right;\n",
       "    }\n",
       "</style>\n",
       "<table border=\"1\" class=\"dataframe\">\n",
       "  <thead>\n",
       "    <tr style=\"text-align: right;\">\n",
       "      <th></th>\n",
       "      <th>Country</th>\n",
       "      <th>2011</th>\n",
       "    </tr>\n",
       "  </thead>\n",
       "  <tbody>\n",
       "    <tr>\n",
       "      <th>445</th>\n",
       "      <td>Niue</td>\n",
       "      <td>11.0</td>\n",
       "    </tr>\n",
       "    <tr>\n",
       "      <th>505</th>\n",
       "      <td>Saint Helena</td>\n",
       "      <td>11.0</td>\n",
       "    </tr>\n",
       "    <tr>\n",
       "      <th>559</th>\n",
       "      <td>Somalia</td>\n",
       "      <td>575.7</td>\n",
       "    </tr>\n",
       "    <tr>\n",
       "      <th>142</th>\n",
       "      <td>Cook Islands</td>\n",
       "      <td>69.7</td>\n",
       "    </tr>\n",
       "    <tr>\n",
       "      <th>313</th>\n",
       "      <td>Kiribati</td>\n",
       "      <td>62.3</td>\n",
       "    </tr>\n",
       "  </tbody>\n",
       "</table>\n",
       "</div>"
      ],
      "text/plain": [
       "          Country   2011\n",
       "445          Niue   11.0\n",
       "505  Saint Helena   11.0\n",
       "559       Somalia  575.7\n",
       "142  Cook Islands   69.7\n",
       "313      Kiribati   62.3"
      ]
     },
     "execution_count": 20,
     "metadata": {},
     "output_type": "execute_result"
    }
   ],
   "source": [
    "bottom_5_2011 = bottom[['Country','2011']]\n",
    "bottom_5_2011.head(5)"
   ]
  },
  {
   "cell_type": "code",
   "execution_count": 21,
   "id": "29aa0a68",
   "metadata": {},
   "outputs": [
    {
     "data": {
      "text/html": [
       "<div>\n",
       "<style scoped>\n",
       "    .dataframe tbody tr th:only-of-type {\n",
       "        vertical-align: middle;\n",
       "    }\n",
       "\n",
       "    .dataframe tbody tr th {\n",
       "        vertical-align: top;\n",
       "    }\n",
       "\n",
       "    .dataframe thead th {\n",
       "        text-align: right;\n",
       "    }\n",
       "</style>\n",
       "<table border=\"1\" class=\"dataframe\">\n",
       "  <thead>\n",
       "    <tr style=\"text-align: right;\">\n",
       "      <th></th>\n",
       "      <th>Country</th>\n",
       "      <th>How much it has changed</th>\n",
       "    </tr>\n",
       "  </thead>\n",
       "  <tbody>\n",
       "    <tr>\n",
       "      <th>445</th>\n",
       "      <td>Niue</td>\n",
       "      <td>7.3</td>\n",
       "    </tr>\n",
       "    <tr>\n",
       "      <th>505</th>\n",
       "      <td>Saint Helena</td>\n",
       "      <td>3.7</td>\n",
       "    </tr>\n",
       "    <tr>\n",
       "      <th>559</th>\n",
       "      <td>Somalia</td>\n",
       "      <td>557.4</td>\n",
       "    </tr>\n",
       "    <tr>\n",
       "      <th>142</th>\n",
       "      <td>Cook Islands</td>\n",
       "      <td>47.7</td>\n",
       "    </tr>\n",
       "    <tr>\n",
       "      <th>313</th>\n",
       "      <td>Kiribati</td>\n",
       "      <td>40.3</td>\n",
       "    </tr>\n",
       "  </tbody>\n",
       "</table>\n",
       "</div>"
      ],
      "text/plain": [
       "          Country  How much it has changed\n",
       "445          Niue                      7.3\n",
       "505  Saint Helena                      3.7\n",
       "559       Somalia                    557.4\n",
       "142  Cook Islands                     47.7\n",
       "313      Kiribati                     40.3"
      ]
     },
     "execution_count": 21,
     "metadata": {},
     "output_type": "execute_result"
    }
   ],
   "source": [
    "bottom_5_2011 = bottom[['Country', 'How much it has changed']]\n",
    "bottom_5_2011.head(5)"
   ]
  },
  {
   "cell_type": "markdown",
   "id": "b1ab29eb",
   "metadata": {},
   "source": [
    "<blockquote>\n",
    "The top 5 and bottom contries remain the same. The countries in the top 5 are all developed countries and rely on many industrial processes.They have greater populations and more people using things like electricity and driving cars. In China we know they have lot's of factories which creates a huge amount of carbon emmissions. In the bottom 5 we have third world countries. Where some have smaller populations, but mainly they don't rely on technology as much as the top 5 countries. Therefore they produce less carbon emmisions. The UK was the only country that saw a decrease in carbon emissions.\n",
    "</blockquote>"
   ]
  },
  {
   "cell_type": "markdown",
   "id": "fc1be807",
   "metadata": {},
   "source": [
    "<h3> Calculate the mean and median C02 emissions for 1990. Why do you think these values differ? </h3>"
   ]
  },
  {
   "cell_type": "code",
   "execution_count": 22,
   "id": "dc176037",
   "metadata": {},
   "outputs": [
    {
     "name": "stdout",
     "output_type": "stream",
     "text": [
      "Mean: 91078.14806629832\n",
      "Median: 11580.35\n"
     ]
    }
   ],
   "source": [
    "mean = co2_emissions['1990'].mean()\n",
    "median = co2_emissions['1990'].median()\n",
    "\n",
    "print(f'Mean: {mean}\\nMedian: {median}')"
   ]
  },
  {
   "cell_type": "markdown",
   "id": "d9384824",
   "metadata": {},
   "source": [
    "<blockquote>\n",
    "These values differ because the mean gives us the average for all the values and the median gives us the value at the center of all the data arranged in ascending order. These values are used to measure the central tendency of the data. Here the mean is significantly higher than the median. This tells us that there are outliers present in the data cause the value to be that high.\n",
    "  </blockquote>"
   ]
  },
  {
   "cell_type": "markdown",
   "id": "41e3be58",
   "metadata": {},
   "source": [
    "<h3>\n",
    "Calculate the minimum, maximum and interquartile range of the CO2 emissions for 1990. Using this information, and the mean and median, what does this tell you about the distribution of CO2 emissions?  \n",
    "</h3>"
   ]
  },
  {
   "cell_type": "code",
   "execution_count": 23,
   "id": "46275dca",
   "metadata": {},
   "outputs": [
    {
     "name": "stdout",
     "output_type": "stream",
     "text": [
      "min: 3.7\n",
      "max: 4823557.1\n",
      "IQR: 90207.24806629829\n"
     ]
    },
    {
     "data": {
      "image/png": "[encoded data removed]",
      "text/plain": [
       "<Figure size 1080x360 with 1 Axes>"
      ]
     },
     "metadata": {},
     "output_type": "display_data"
    }
   ],
   "source": [
    "minimum = co2_emissions['1990'].min()\n",
    "maximum = co2_emissions['1990'].max()\n",
    "iqr = stats.iqr(co2_emissions['1990'],nan_policy='omit')\n",
    "\n",
    "plt.figure(figsize=(15, 5))\n",
    "ax = sns.boxplot(x=co2_emissions['1990'])\n",
    "plt.title('CO2 emissions in 1990', fontweight='bold', size=15)\n",
    "plt.xlabel('CO2 Emissions (Million metric tons)', fontweight='bold')\n",
    "plt.ylabel('1990', fontweight='bold')\n",
    "print(f'min: {minimum}\\nmax: {maximum}\\nIQR: {iqr}')"
   ]
  },
  {
   "cell_type": "markdown",
   "id": "56f8a114",
   "metadata": {},
   "source": [
    "<blockquote>\n",
    "The diagram is skewed to the right meaning most of the values are above the median. There are also extreme outliers.\n",
    "  </blockquote>"
   ]
  },
  {
   "cell_type": "code",
   "execution_count": 24,
   "id": "799a82bc",
   "metadata": {},
   "outputs": [
    {
     "data": {
      "image/png": "[encoded data removed]",
      "text/plain": [
       "<Figure size 1080x360 with 1 Axes>"
      ]
     },
     "metadata": {},
     "output_type": "display_data"
    }
   ],
   "source": [
    "plt.figure(figsize=(15, 5))\n",
    "plt.hist(co2_emissions['1990'], histtype='barstacked')\n",
    "plt.title('CO2 emissions for 1990', fontweight='bold', size=15)\n",
    "plt.xlabel('CO2 Emissions (Million metric tons)', fontweight='bold')\n",
    "plt.ylabel('Number of Countries', fontweight='bold')\n",
    "plt.show()"
   ]
  },
  {
   "cell_type": "markdown",
   "id": "02880e5c",
   "metadata": {},
   "source": [
    "<blockquote>\n",
    "    Most countries emit a maximum of 500 000 metric tons of CO2.\n",
    "  </blockquote>"
   ]
  },
  {
   "cell_type": "markdown",
   "id": "3ef3e649",
   "metadata": {},
   "source": [
    "<h3>Calculate the standard deviation and standard error of the mean for CO2 emissions in 1990. How is the standard error different from the standard deviation?\n",
    "\n",
    "</h3>"
   ]
  },
  {
   "cell_type": "code",
   "execution_count": 25,
   "id": "3df3f51f",
   "metadata": {},
   "outputs": [
    {
     "name": "stdout",
     "output_type": "stream",
     "text": [
      "Standard deviation : 368670.4221403898 \n",
      "Standard error of the mean: 24362.42723879995\n"
     ]
    }
   ],
   "source": [
    "deviation = np.std(co2_emissions['1990'])\n",
    "error_mean = np.std(co2_emissions['1990'], ddof=1) / np.sqrt(np.size(co2_emissions['1990']))\n",
    "\n",
    "print(f'Standard deviation : {deviation} \\nStandard error of the mean: {error_mean}')"
   ]
  },
  {
   "cell_type": "markdown",
   "id": "e5c16a89",
   "metadata": {},
   "source": [
    "<blockquote>\n",
    "The standard deviation measures the amount of variability, or dispersion, from the individual data values to the mean, while the standard error of the mean (SEM) measures how far the sample mean (average) of the data is likely to be from the true population mean. Our standard deviation is pretty high in comparison to the mean, indictating high variability in the dataset. Looking at the standard error mean we can see that it is likely that theres a significant difference between the population mean and the mean if the dataset.\n",
    "</blockquote>"
   ]
  },
  {
   "cell_type": "markdown",
   "id": "10a509f7",
   "metadata": {},
   "source": [
    "<h3>Create a line graph to show C02 emissions in Brazil, Russia, China, India, the USA and South Africa over time. What does the graph tell you about the difference and change in C02 emissions in these countries?</h3>\n",
    "\n"
   ]
  },
  {
   "cell_type": "code",
   "execution_count": 26,
   "id": "d7bc010f",
   "metadata": {},
   "outputs": [],
   "source": [
    "brazil = [float(number) for number in co2_emissions[co2_emissions.Country=='Brazil'][years].values[0]]\n",
    "russia = [float(number) for number in co2_emissions[co2_emissions.Country=='Russian Federation'][years].values[0]]\n",
    "china = [float(number) for number in co2_emissions[co2_emissions.Country=='China'][years].values[0]]\n",
    "india = [float(number) for number in co2_emissions[co2_emissions.Country=='India'][years].values[0]]\n",
    "usa = [float(number) for number in co2_emissions[co2_emissions.Country=='United States'][years].values[0]]\n",
    "sa = [float(number) for number in co2_emissions[co2_emissions.Country=='South Africa'][years].values[0]]"
   ]
  },
  {
   "cell_type": "code",
   "execution_count": 27,
   "id": "6c083cdf",
   "metadata": {},
   "outputs": [
    {
     "data": {
      "image/png": "[encoded data removed]",
      "text/plain": [
       "<Figure size 1152x576 with 1 Axes>"
      ]
     },
     "metadata": {},
     "output_type": "display_data"
    }
   ],
   "source": [
    "plt.figure(figsize=(16, 8))\n",
    "sns.lineplot(x = years, y = brazil, color='red')\n",
    "sns.lineplot(x = years, y = russia, color='green')\n",
    "sns.lineplot(x = years, y = china, color='yellow')\n",
    "sns.lineplot(x = years, y = india, color='blue')\n",
    "sns.lineplot(x = years, y = usa, color='purple')\n",
    "sns.lineplot(x = years, y = sa, color='black')\n",
    "plt.title('C02 emissions per Country', fontweight='bold', size=20)\n",
    "plt.ylabel('CO2 Emissions (Million metric tons)', fontweight='bold')\n",
    "plt.xlabel('Years', fontweight='bold')\n",
    "brazil = mpatches.Patch(color='red', label='brazil')\n",
    "russia = mpatches.Patch(color='green', label='russia')\n",
    "china = mpatches.Patch(color='yellow', label='china')\n",
    "india = mpatches.Patch(color='blue', label='india')\n",
    "usa = mpatches.Patch(color='purple', label='usa')\n",
    "sa = mpatches.Patch(color='black', label='sa')\n",
    "plt.legend(handles=[brazil, russia,china,india,usa,sa])\n",
    "plt.show()\n"
   ]
  },
  {
   "cell_type": "markdown",
   "id": "f808d108",
   "metadata": {},
   "source": [
    "<blockquote>\n",
    "China and the United States both produce the most carbon dioxide. With Brazil and South Africa producing the least.\n",
    "</blockquote>"
   ]
  },
  {
   "cell_type": "markdown",
   "id": "933d6931",
   "metadata": {},
   "source": [
    "<h3>What is the mean and standard deviation for land area covered by forest in 1990? Why do you think the standard deviation is so large?\n",
    "</h3>\n"
   ]
  },
  {
   "cell_type": "code",
   "execution_count": 28,
   "id": "de4ea742",
   "metadata": {},
   "outputs": [
    {
     "name": "stdout",
     "output_type": "stream",
     "text": [
      "Mean Land Coverage: 32.97713004484306 \n",
      "Land Standard Deviation: 25.440278554474926\n"
     ]
    }
   ],
   "source": [
    "land_coverage = df[df['SeriesCode']==567].copy()\n",
    "mean_land_cov = np.mean(land_coverage['1990'])\n",
    "dev_land_cov = np.std(land_coverage['1990'])\n",
    "print(f'Mean Land Coverage: {mean_land_cov} \\nLand Standard Deviation: {dev_land_cov}')"
   ]
  },
  {
   "cell_type": "code",
   "execution_count": 29,
   "id": "1d451771",
   "metadata": {},
   "outputs": [],
   "source": [
    "dictionary={}\n",
    "for year in years:\n",
    "        dictionary[year] = land_coverage[year].mean()"
   ]
  },
  {
   "cell_type": "code",
   "execution_count": 30,
   "id": "46a0f3db",
   "metadata": {},
   "outputs": [],
   "source": [
    "land_coverage.fillna(value=dictionary,inplace=True)"
   ]
  },
  {
   "cell_type": "markdown",
   "id": "3b92702d",
   "metadata": {},
   "source": [
    "<blockquote>\n",
    "    It makes sense for the standard deviation to be large as land and land size has a wide variety so all of them are likely to be very far from the mean size simply because land is so different.\n",
    "</blockquote>"
   ]
  },
  {
   "cell_type": "markdown",
   "id": "2b9a4ce7",
   "metadata": {},
   "source": [
    "<h3>Create histograms for land area covered by forest and percentage of area protected in 1990. Describe the distributions.\n",
    "</h3>\n"
   ]
  },
  {
   "cell_type": "code",
   "execution_count": 31,
   "id": "0e1ae002",
   "metadata": {},
   "outputs": [],
   "source": [
    "protected_area = df[df['SeriesCode']== 616].copy()"
   ]
  },
  {
   "cell_type": "code",
   "execution_count": 32,
   "id": "bd4d1b1f",
   "metadata": {},
   "outputs": [],
   "source": [
    "dictionary1={}\n",
    "for year in years:\n",
    "        dictionary1[year] = protected_area[year].mean()"
   ]
  },
  {
   "cell_type": "code",
   "execution_count": 33,
   "id": "a96904c8",
   "metadata": {},
   "outputs": [
    {
     "data": {
      "image/png": "[encoded data removed]",
      "text/plain": [
       "<Figure size 1080x360 with 1 Axes>"
      ]
     },
     "metadata": {},
     "output_type": "display_data"
    }
   ],
   "source": [
    "plt.figure(figsize=(15, 5))\n",
    "plt.hist(land_coverage['1990'])\n",
    "plt.title('Land Area Covered by Forest in 1990', fontweight='bold', size=15)\n",
    "plt.xlabel('Land Area Coverage', fontweight='bold')\n",
    "plt.ylabel('Number of Countries', fontweight='bold')\n",
    "plt.show()"
   ]
  },
  {
   "cell_type": "markdown",
   "id": "fa0a76c6",
   "metadata": {},
   "source": [
    "<blockquote>\n",
    "When looking at the distribution you can see that the data is skewed to the right. This tell us that there is little forest coverage. Less that then half of the land is covered by a forest.\n",
    "</blockquote>\n"
   ]
  },
  {
   "cell_type": "code",
   "execution_count": 34,
   "id": "06ebe41f",
   "metadata": {},
   "outputs": [
    {
     "data": {
      "image/png": "[encoded data removed]",
      "text/plain": [
       "<Figure size 1080x360 with 1 Axes>"
      ]
     },
     "metadata": {},
     "output_type": "display_data"
    }
   ],
   "source": [
    "plt.figure(figsize=(15, 5))\n",
    "plt.hist(protected_area['1990'])\n",
    "plt.title('Percentage of Area Protected in 1990', fontweight='bold', size=15)\n",
    "plt.xlabel('Protected Area (%)', fontweight='bold')\n",
    "plt.ylabel('Number of Countries', fontweight='bold')\n",
    "plt.show()"
   ]
  },
  {
   "cell_type": "markdown",
   "id": "222c2f38",
   "metadata": {},
   "source": [
    "<blockquote>\n",
    "When looking at the distribution you can see that the data is skewed to the right. From what we can see here is that theres an extremely low percentage of areas that are protected.\n",
    "</blockquote>"
   ]
  },
  {
   "cell_type": "markdown",
   "id": "8b579312",
   "metadata": {},
   "source": [
    "<h3>Create a scatterplot with a regression line using seaborn.regplot to show the relationship between the proportion of land area covered by forest and the percentage of area protected in 2000.</h3>"
   ]
  },
  {
   "cell_type": "code",
   "execution_count": 35,
   "id": "5c84bb8d",
   "metadata": {},
   "outputs": [
    {
     "data": {
      "image/png": "[encoded data removed]",
      "text/plain": [
       "<Figure size 1080x360 with 1 Axes>"
      ]
     },
     "metadata": {},
     "output_type": "display_data"
    }
   ],
   "source": [
    "plt.figure(figsize=(15, 5))\n",
    "ax = sns.regplot(x= land_coverage['2000'], y =protected_area['2000'])\n",
    "plt.title('Proportion of Land Area Covered by Forest VS Percentage of Area (2000)', fontweight='bold', size=15)\n",
    "plt.ylabel('Percentage of Protected Area', fontweight='bold')\n",
    "plt.xlabel('Land Area Coverage', fontweight='bold')\n",
    "plt.show()"
   ]
  },
  {
   "cell_type": "markdown",
   "id": "286a3953",
   "metadata": {},
   "source": [
    "<blockquote>\n",
    "    <b>What is the relationship between these two variables?</b> <br>\n",
    "    Looking at the graph above there seems to be a very weak, almost non-existent positive relationship. <br> \n",
    "    <b>Describe any patterns in the scatterplot.</b> <br>\n",
    "    Most areas seem to have very little to no protected areas. <br>\n",
    "    <b>Do you notice any unusual/extreme values that do not fit the general trend? If you see any unusual values, briefly describe them (Who are they? In what way are they different?).</b> <br>\n",
    "    There are a few places where they have more than 30% protected areas. This is a drastic difference in comparison to all the other values that we are seeing. Below we'll have a look at who they are.\n",
    "</blockquote>"
   ]
  },
  {
   "cell_type": "code",
   "execution_count": 36,
   "id": "0387cddb",
   "metadata": {},
   "outputs": [
    {
     "data": {
      "text/plain": [
       "71                                             Bhutan\n",
       "128    China, Hong Kong Special Administrative Region\n",
       "347                                     Liechtenstein\n",
       "668                                         Venezuela\n",
       "686                                            Zambia\n",
       "Name: Country, dtype: object"
      ]
     },
     "execution_count": 36,
     "metadata": {},
     "output_type": "execute_result"
    }
   ],
   "source": [
    "df[(df['2000'] >= 30) & (df['SeriesCode']== 616)]['Country']"
   ]
  },
  {
   "cell_type": "markdown",
   "id": "68e451e4",
   "metadata": {},
   "source": [
    "<h3>Since neither forested land area nor protected area is normally distributed, we will need to log transform these variables in order to calculate a correlation coefficient. Log transform the variables and show the transformed distributions in a histogram.</h3>"
   ]
  },
  {
   "cell_type": "code",
   "execution_count": 37,
   "id": "49a082f0",
   "metadata": {},
   "outputs": [],
   "source": [
    "np.seterr(divide = 'ignore') \n",
    "land_coverage['1990_land_log'] = np.log(land_coverage['1990'])\n",
    "protected_area['1990_protected_log'] = np.log(protected_area['1990'])\n",
    "area_log=land_coverage[np.isfinite(land_coverage['1990_land_log'])]['1990_land_log']\n",
    "protected_area_log=protected_area[np.isfinite(protected_area['1990_protected_log'])]['1990_protected_log']"
   ]
  },
  {
   "cell_type": "code",
   "execution_count": 38,
   "id": "630cd47d",
   "metadata": {},
   "outputs": [
    {
     "data": {
      "image/png": "[encoded data removed]",
      "text/plain": [
       "<Figure size 1080x360 with 1 Axes>"
      ]
     },
     "metadata": {},
     "output_type": "display_data"
    }
   ],
   "source": [
    "plt.figure(figsize=(15, 5))\n",
    "plt.hist(protected_area_log)\n",
    "plt.title('Percentage Log of Area Protected (1990)', fontweight='bold', size=15)\n",
    "plt.xlabel('Protected Area (%)', fontweight='bold')\n",
    "plt.ylabel('Number of Countries', fontweight='bold')\n",
    "plt.show()"
   ]
  },
  {
   "cell_type": "code",
   "execution_count": 39,
   "id": "a95e36ec",
   "metadata": {},
   "outputs": [
    {
     "data": {
      "image/png": "[encoded data removed]",
      "text/plain": [
       "<Figure size 1080x360 with 1 Axes>"
      ]
     },
     "metadata": {},
     "output_type": "display_data"
    }
   ],
   "source": [
    "plt.figure(figsize=(15, 5))\n",
    "plt.hist(area_log)\n",
    "plt.title('Land Log Area Covered by Forest(1990)', fontweight='bold', size=15)\n",
    "plt.xlabel('Land Area Coverage', fontweight='bold')\n",
    "plt.ylabel('Number of Countries', fontweight='bold')\n",
    "plt.show()"
   ]
  },
  {
   "cell_type": "markdown",
   "id": "fc246ef4",
   "metadata": {},
   "source": [
    "<h3>Using the pearsonr function from the scipy.stats module, calculate the Pearson correlation coefficient (and its corresponding p value) to determine the nature of the relationship between proportion of land area covered by forest and the percentage of area protected (as measured in 1990 and log transformed). See help(pearsonr) for help on this function.</h3>"
   ]
  },
  {
   "cell_type": "code",
   "execution_count": 40,
   "id": "664b8f3e",
   "metadata": {},
   "outputs": [
    {
     "name": "stdout",
     "output_type": "stream",
     "text": [
      "Pearson’s correlation coefficient: 0.08332605848156083 \n",
      "P-value: 0.24681534541253594\n"
     ]
    }
   ],
   "source": [
    "area_log = area_log.iloc[:-22]\n",
    "correlation, p_value = stats.pearsonr(area_log, protected_area_log)\n",
    "print(f'Pearson’s correlation coefficient: {correlation} \\nP-value: {p_value}')"
   ]
  },
  {
   "cell_type": "markdown",
   "id": "7b16079a",
   "metadata": {},
   "source": [
    "<blockquote>\n",
    "    <b>Interpret the size and direction of the correlation statistic.</b> <br>\n",
    "    Looking at the correlation coefficient, I think it's safe to say that there's technically no linear relationship. <br> \n",
    "    <b>Is the relationship statistically significant? Report the appropriate statistic(s) to support your answer.</b> <br>\n",
    "    The relationship is not statistically significant as it is above the 0.05 threshold.\n",
    "</blockquote>"
   ]
  },
  {
   "cell_type": "markdown",
   "id": "26b910b4",
   "metadata": {},
   "source": [
    "<h3>Calculate the Spearman Rank-Order Correlation Coefficient. This test only looks at the order of the categories, not the values. The Spearman Rank-Order Coefficient is therefore not influenced by non-normality of variables or outliers. How do the results of this test compare the results of the Pearson’s correlation?</h3>"
   ]
  },
  {
   "cell_type": "code",
   "execution_count": 41,
   "id": "f4465b69",
   "metadata": {},
   "outputs": [
    {
     "name": "stdout",
     "output_type": "stream",
     "text": [
      "Spearman Correlation Coefficient: 0.0544523548013396\n",
      "P-value: 0.44961429976244793\n"
     ]
    }
   ],
   "source": [
    "correlation, p_value = stats.spearmanr(area_log, protected_area_log)\n",
    "print(f'Spearman Correlation Coefficient: {correlation}\\nP-value: {p_value}')"
   ]
  },
  {
   "cell_type": "markdown",
   "id": "483b8048",
   "metadata": {},
   "source": [
    "<blockquote>\n",
    "These results arrive at the same conclusion as the pearson correlations that there is no relationship. The p-value is telling us that none of the data is correlated.\n",
    "</blockquote>"
   ]
  }
 ],
 "metadata": {
  "kernelspec": {
   "display_name": "Python 3",
   "language": "python",
   "name": "python3"
  },
  "language_info": {
   "codemirror_mode": {
    "name": "ipython",
    "version": 3
   },
   "file_extension": ".py",
   "mimetype": "text/x-python",
   "name": "python",
   "nbconvert_exporter": "python",
   "pygments_lexer": "ipython3",
   "version": "3.8.8"
  }
 },
 "nbformat": 4,
 "nbformat_minor": 5
}
